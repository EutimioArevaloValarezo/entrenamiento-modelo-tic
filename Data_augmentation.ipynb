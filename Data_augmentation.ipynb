{
  "cells": [
    {
      "cell_type": "markdown",
      "metadata": {
        "id": "40SZFkI1inrw"
      },
      "source": [
        "#DATA AUGMENTATION"
      ]
    },
    {
      "cell_type": "code",
      "execution_count": null,
      "metadata": {},
      "outputs": [],
      "source": [
        "from PIL import Image\n",
        "import os\n",
        "\n",
        "def convert_images_to_png(root_folder):\n",
        "    # Recorre todos los directorios y archivos dentro de root_folder\n",
        "    for subdir, dirs, files in os.walk(root_folder):\n",
        "        for file in files:\n",
        "            filepath = os.path.join(subdir, file)  # Ruta completa del archivo\n",
        "\n",
        "            # Verifica si el archivo es una imagen con extensión JPEG\n",
        "            if filepath.lower().endswith(\".jpg\") or filepath.lower().endswith(\".jpeg\"):\n",
        "                try:\n",
        "                    image = Image.open(filepath)  # Abre la imagen\n",
        "\n",
        "                    # Define el nombre del archivo convertido a PNG\n",
        "                    filename = os.path.splitext(filepath)[0] + \".png\"\n",
        "\n",
        "                    # Guarda la imagen en formato PNG y elimina el archivo original\n",
        "                    image.save(filename, \"PNG\")\n",
        "                    os.remove(filepath)  # Elimina el archivo original\n",
        "                except Exception as e:\n",
        "                    print(f\"Error al procesar la imagen: {filepath}\")\n",
        "                    print(f\"Error: {e}\")\n",
        "\n",
        "# Carpetas a procesar\n",
        "folders = [\n",
        "    '../Datasets/Hatha-Yoga-Suave-2/Ardhakati-Chakrasana/',\n",
        "    '../Datasets/Hatha-Yoga-Suave-2/Padahastasana/',\n",
        "    '../Datasets/Hatha-Yoga-Suave-2/Pavanmuktasana/',\n",
        "    '../Datasets/Hatha-Yoga-Suave-2/Pranamasana/',\n",
        "    '../Datasets/Hatha-Yoga-Suave-2/Rajahamsasana/',\n",
        "    '../Datasets/Hatha-Yoga-Suave-2/Tadasana/',\n",
        "    '../Datasets/Hatha-Yoga-Suave-2/Urdhva-Badhanguliyasana/',\n",
        "    '../Datasets/Hatha-Yoga-Suave-2/Utkatasana/',\n",
        "    '../Datasets/Hatha-Yoga-Suave-2/Utthita-Trikonasana/'\n",
        "]\n",
        "\n",
        "# Iterar sobre las carpetas y llamar a la función para convertir imágenes a PNG\n",
        "for folder in folders:\n",
        "    convert_images_to_png(folder)\n"
      ]
    },
    {
      "cell_type": "code",
      "execution_count": 4,
      "metadata": {},
      "outputs": [],
      "source": [
        "import os\n",
        "import numpy as np\n",
        "from PIL import Image\n",
        "from imgaug import augmenters as iaa\n",
        "\n",
        "# Lista de carpetas\n",
        "folders = [\n",
        "    '../Datasets/Hatha-Yoga-Suave-2/Ardhakati-Chakrasana/',\n",
        "    '../Datasets/Hatha-Yoga-Suave-2/Padahastasana/',\n",
        "    '../Datasets/Hatha-Yoga-Suave-2/Pavanmuktasana/',\n",
        "    '../Datasets/Hatha-Yoga-Suave-2/Pranamasana/',\n",
        "    '../Datasets/Hatha-Yoga-Suave-2/Rajahamsasana/',\n",
        "    '../Datasets/Hatha-Yoga-Suave-2/Tadasana/',\n",
        "    '../Datasets/Hatha-Yoga-Suave-2/Urdhva-Badhanguliyasana/',\n",
        "    '../Datasets/Hatha-Yoga-Suave-2/Utkatasana/',\n",
        "    '../Datasets/Hatha-Yoga-Suave-2/Utthita-Trikonasana/'\n",
        "]\n",
        "\n",
        "\n",
        "# Función para aplicar aumentos de datos a una imagen\n",
        "def apply_augmentation(image_path, num_generated_images=2):\n",
        "    # Cargar la imagen\n",
        "    image = Image.open(image_path)\n",
        "    \n",
        "    # Definir aumentos de datos que se aplicarán\n",
        "    seq = iaa.Sequential([\n",
        "        iaa.Fliplr(0.5),  # Volteo horizontal con probabilidad del 50%\n",
        "        iaa.GammaContrast((0.5, 2.0)),  # Cambio aleatorio de contraste\n",
        "        iaa.AdditiveGaussianNoise(scale=(0, 0.05*255)),  # Agregar ruido aleatorio\n",
        "        iaa.Multiply((0.5, 1.5), per_channel=0.5),  # Cambio aleatorio de saturación\n",
        "        iaa.Affine(rotate=(-10, 10))  # Rotación aleatoria entre -10 y 10 grados\n",
        "    ])\n",
        "    \n",
        "    # Convertir la imagen a matriz numpy\n",
        "    image_np = np.array(image)\n",
        "    \n",
        "    # Iterar para generar el número deseado de imágenes aumentadas\n",
        "    for i in range(num_generated_images):\n",
        "        # Aplicar aumentos de datos a la imagen\n",
        "        augmented_image = seq(image=image_np)\n",
        "        \n",
        "        # Guardar las imágenes aumentadas en la misma carpeta\n",
        "        output_path = os.path.splitext(image_path)[0] + f'_augmented_{i+1}.png'  # Cambiar a formato PNG\n",
        "        Image.fromarray(augmented_image).save(output_path, 'PNG')  # Guardar como PNG\n",
        "\n",
        "# Iterar sobre las carpetas y aplicar aumentos de datos a las imágenes\n",
        "for folder in folders:\n",
        "    # Obtener la lista de archivos de imagen en la carpeta\n",
        "    image_files = [f for f in os.listdir(folder) if os.path.isfile(os.path.join(folder, f))]\n",
        "    \n",
        "    # Aplicar aumentos de datos a cada imagen en la carpeta\n",
        "    for image_file in image_files:\n",
        "        image_path = os.path.join(folder, image_file)\n",
        "        apply_augmentation(image_path, num_generated_images=2)  # Generar 2 imágenes por cada imagen original"
      ]
    }
  ],
  "metadata": {
    "colab": {
      "provenance": []
    },
    "kernelspec": {
      "display_name": "Python 3",
      "name": "python3"
    },
    "language_info": {
      "codemirror_mode": {
        "name": "ipython",
        "version": 3
      },
      "file_extension": ".py",
      "mimetype": "text/x-python",
      "name": "python",
      "nbconvert_exporter": "python",
      "pygments_lexer": "ipython3",
      "version": "3.10.13"
    }
  },
  "nbformat": 4,
  "nbformat_minor": 0
}
